{
  "nbformat": 4,
  "nbformat_minor": 0,
  "metadata": {
    "colab": {
      "provenance": [],
      "mount_file_id": "1bZA-8qULZOAn00ZpsGR6yFRHN_WqENpH",
      "authorship_tag": "ABX9TyNCTP5sNc6SRwnZJoO9kFya",
      "include_colab_link": true
    },
    "kernelspec": {
      "name": "python3",
      "display_name": "Python 3"
    },
    "language_info": {
      "name": "python"
    }
  },
  "cells": [
    {
      "cell_type": "markdown",
      "metadata": {
        "id": "view-in-github",
        "colab_type": "text"
      },
      "source": [
        "<a href=\"https://colab.research.google.com/github/SiumNobo/PythonAI/blob/main/Day1.ipynb\" target=\"_parent\"><img src=\"https://colab.research.google.com/assets/colab-badge.svg\" alt=\"Open In Colab\"/></a>"
      ]
    },
    {
      "cell_type": "code",
      "execution_count": null,
      "metadata": {
        "colab": {
          "base_uri": "https://localhost:8080/"
        },
        "id": "Fq1V4zvckEbH",
        "outputId": "d5c8d054-1ef5-47c3-b293-1f07c41172c6"
      },
      "outputs": [
        {
          "output_type": "stream",
          "name": "stdout",
          "text": [
            "10\n"
          ]
        }
      ],
      "source": [
        "var1=10;\n",
        "print(var1)\n"
      ]
    },
    {
      "cell_type": "markdown",
      "source": [
        "python formated string"
      ],
      "metadata": {
        "id": "Zt6BhPyt6nRg"
      }
    },
    {
      "cell_type": "code",
      "source": [
        "val1,val2=10,20\n",
        "st1=\"val 1={} and val2={}\".format(val1,val2)\n",
        "print()\n",
        "print(\"Value 1={1} and value 2={0}\".format(val1,val2))\n",
        "print(\"value 1={key1} and value 2={key2}\".format(key1=val1,key2=val2))\n",
        "\n",
        "f1=2.26\n",
        "print(\"formated value:(:08.5f)\".format(f1))\n",
        "print(\"formated value:(key:08.5f)\".format(key=f1))\n"
      ],
      "metadata": {
        "colab": {
          "base_uri": "https://localhost:8080/"
        },
        "id": "MM-SJXtZ6hRm",
        "outputId": "0ea9debb-e8b6-4034-9f59-b77972e5b297"
      },
      "execution_count": null,
      "outputs": [
        {
          "output_type": "stream",
          "name": "stdout",
          "text": [
            "\n",
            "Value 1=20 and value 2=10\n",
            "value 1=10 and value 2=20\n",
            "formated value:(:08.5f)\n",
            "formated value:(key:08.5f)\n"
          ]
        }
      ]
    },
    {
      "cell_type": "markdown",
      "source": [
        "Python input"
      ],
      "metadata": {
        "id": "HxPe8Wtp-CLq"
      }
    },
    {
      "cell_type": "code",
      "source": [
        "num1=int(input(\"enter your number?\"))\n",
        "num2=int(input(\"enter your number?\"))\n",
        "\n",
        "sum=num1+num2;\n",
        "print(float(sum))"
      ],
      "metadata": {
        "colab": {
          "base_uri": "https://localhost:8080/"
        },
        "id": "5qgIOA28-BrT",
        "outputId": "ee55fdba-c0a5-490a-b50e-f0c12251b9ae"
      },
      "execution_count": null,
      "outputs": [
        {
          "output_type": "stream",
          "name": "stdout",
          "text": [
            "enter your number?10\n",
            "enter your number?20\n",
            "30.0\n"
          ]
        }
      ]
    },
    {
      "cell_type": "markdown",
      "source": [
        "Multiline String"
      ],
      "metadata": {
        "id": "CwwmrtOwgcF-"
      }
    },
    {
      "cell_type": "code",
      "source": [
        "str1='single quoted string'\n",
        "str2=\"double quoted string\"\n",
        "str3='''multi-line\n",
        "string\n",
        "with tab'''\n",
        "print(str1)\n",
        "print(str2)\n",
        "print(str3)"
      ],
      "metadata": {
        "id": "v9SOabvYeyjZ",
        "colab": {
          "base_uri": "https://localhost:8080/"
        },
        "outputId": "19b30f79-cee9-40f6-cf7d-f40d6d98b670"
      },
      "execution_count": null,
      "outputs": [
        {
          "output_type": "stream",
          "name": "stdout",
          "text": [
            "single quoted string\n",
            "double quoted string\n",
            "multi-line\n",
            "string \n",
            "with tab\n"
          ]
        }
      ]
    },
    {
      "cell_type": "markdown",
      "source": [
        "Last output and boolean variable"
      ],
      "metadata": {
        "id": "GksZw589gXUQ"
      }
    },
    {
      "cell_type": "code",
      "source": [
        "print(0==0)\n",
        "print(0==1)\n",
        "print(True)\n"
      ],
      "metadata": {
        "colab": {
          "base_uri": "https://localhost:8080/"
        },
        "id": "nzRNSx8lj8IM",
        "outputId": "d002f7b4-9e99-4536-9133-de48c9434f0a"
      },
      "execution_count": null,
      "outputs": [
        {
          "output_type": "stream",
          "name": "stdout",
          "text": [
            "True\n",
            "False\n",
            "True\n"
          ]
        }
      ]
    },
    {
      "cell_type": "markdown",
      "source": [
        "some other type conversion"
      ],
      "metadata": {
        "id": "YjvEOaIJ1oPT"
      }
    },
    {
      "cell_type": "code",
      "source": [
        "num1=10\n",
        "num2=15.5\n",
        "print(num1+num2)\n",
        "\n",
        "#explicite type coversion\n",
        "num1=10\n",
        "str1=\"123\"\n",
        "print(num1+int(str1))\n",
        "print(str(num1)+str1)\n"
      ],
      "metadata": {
        "colab": {
          "base_uri": "https://localhost:8080/"
        },
        "id": "y7q5FJkbwHNl",
        "outputId": "580ce7b3-d63e-40e2-c6db-af0f07db1e0e"
      },
      "execution_count": null,
      "outputs": [
        {
          "output_type": "stream",
          "name": "stdout",
          "text": [
            "25.5\n",
            "133\n",
            "10123\n"
          ]
        }
      ]
    },
    {
      "cell_type": "markdown",
      "source": [
        "Module code"
      ],
      "metadata": {
        "id": "Bah1Itzf2q-M"
      }
    },
    {
      "cell_type": "code",
      "source": [
        "import math\n",
        "print(math.pi)\n",
        "print(math.sqrt(16))\n",
        "\n",
        "from math import * #try to avoid this practice\n",
        "print(pi)\n",
        "from math import pi\n",
        "print(pi)\n",
        "import math as m\n",
        "print(m.pi)\n",
        "\n",
        "from math import pi as p\n",
        "print(p)\n"
      ],
      "metadata": {
        "colab": {
          "base_uri": "https://localhost:8080/"
        },
        "id": "kJPmKPVa24Re",
        "outputId": "cf3dd04a-eddb-4b7d-d011-3c4f28c79616"
      },
      "execution_count": null,
      "outputs": [
        {
          "output_type": "stream",
          "name": "stdout",
          "text": [
            "3.141592653589793\n",
            "4.0\n",
            "3.141592653589793\n",
            "3.141592653589793\n",
            "3.141592653589793\n",
            "3.141592653589793\n"
          ]
        }
      ]
    },
    {
      "cell_type": "markdown",
      "source": [
        "#input file from a drive"
      ],
      "metadata": {
        "id": "qe53p1NDvwYR"
      }
    },
    {
      "cell_type": "markdown",
      "source": [
        "Python operator"
      ],
      "metadata": {
        "id": "chmWsRMjK7Jp"
      }
    },
    {
      "cell_type": "code",
      "source": [
        "print(5/2)\n",
        "print(5//2)\n",
        "print(5**2)\n",
        "\n",
        "print(True or False)\n",
        "print(True or True)\n",
        "print(not True)\n",
        "\n",
        "\n",
        "x=True\n",
        "print(x is None)\n",
        "print(x is not None)\n",
        "\n",
        "str1=\"hello python\"\n",
        "print('hello' in str1)\n",
        "\n",
        "\n"
      ],
      "metadata": {
        "colab": {
          "base_uri": "https://localhost:8080/"
        },
        "id": "BQLJqiyJLCpF",
        "outputId": "8ed0ef75-272e-4f41-bdef-36f7fdcca651"
      },
      "execution_count": null,
      "outputs": [
        {
          "output_type": "stream",
          "name": "stdout",
          "text": [
            "2.5\n",
            "2\n",
            "25\n",
            "True\n",
            "True\n",
            "False\n",
            "False\n",
            "True\n",
            "True\n"
          ]
        }
      ]
    },
    {
      "cell_type": "markdown",
      "source": [
        "Referring to the same object or not"
      ],
      "metadata": {
        "id": "n-32NRKAMD5t"
      }
    },
    {
      "cell_type": "code",
      "source": [
        "print(\"-----------Special Oprators-----------\")\n",
        "x=True\n",
        "print(x is None)\n",
        "print(x is not None)\n",
        "print(x is True)\n",
        "\n",
        "print(\"-------------Membership operators--------------\")\n",
        "#membership operator in/out in operator\n",
        "str1=\"hello python\"\n",
        "print('hello' in str1)\n",
        "\n",
        "\n"
      ],
      "metadata": {
        "colab": {
          "base_uri": "https://localhost:8080/"
        },
        "id": "8TtIYzbXMNpI",
        "outputId": "8bbcd68f-b3db-4478-b6a4-0932db7a0de8"
      },
      "execution_count": null,
      "outputs": [
        {
          "output_type": "stream",
          "name": "stdout",
          "text": [
            "-----------Special Oprators-----------\n",
            "False\n",
            "True\n",
            "True\n",
            "-------------Membership operators--------------\n",
            "True\n"
          ]
        }
      ]
    },
    {
      "cell_type": "markdown",
      "source": [
        "Scopeing"
      ],
      "metadata": {
        "id": "Azbd-yYwR-AK"
      }
    },
    {
      "cell_type": "code",
      "source": [
        "g = 10  # global variable [built-in [global: g=10]]]\n",
        "\n",
        "def f1():\n",
        "    global g  # referring to global variable g\n",
        "    g = 20  # built-in [global: g=20]\n",
        "    n1 = 20  # local for f1 [built-in [global g=20 [local n1=20]]]\n",
        "\n",
        "def f2():\n",
        "    global g\n",
        "    g = 30\n",
        "    n1 = 30  # local for f2 [built-in [global g=30 [local n1=30]]]\n",
        "    l = 30\n",
        "    print(\"l= \" + str(l))  # Printing the local variable l\n",
        "f2()\n",
        "print(g)\n",
        "f1()\n",
        "print(g)"
      ],
      "metadata": {
        "colab": {
          "base_uri": "https://localhost:8080/"
        },
        "id": "pqt-o6DSVjXR",
        "outputId": "06ee0f27-498d-4bfb-89b2-fea99f9b5adc"
      },
      "execution_count": null,
      "outputs": [
        {
          "output_type": "stream",
          "name": "stdout",
          "text": [
            "l= 30\n",
            "30\n",
            "20\n"
          ]
        }
      ]
    },
    {
      "cell_type": "markdown",
      "source": [
        "Python follows invention. not have brackets"
      ],
      "metadata": {
        "id": "0dFbO-yToHF4"
      }
    },
    {
      "cell_type": "code",
      "source": [
        "#python if-elif statement\n",
        "value=\"m\"\n",
        "if value==\"m\":\n",
        "  print(\"Male\")\n",
        "elif value!=\"f\":\n",
        "   print(\"Female\")\n",
        "else:\n",
        "   print(\"others\")"
      ],
      "metadata": {
        "colab": {
          "base_uri": "https://localhost:8080/"
        },
        "id": "TR57_-WCoE-e",
        "outputId": "f9477428-c3dc-44e5-9522-7d41aead0e45"
      },
      "execution_count": null,
      "outputs": [
        {
          "output_type": "stream",
          "name": "stdout",
          "text": [
            "Male\n"
          ]
        }
      ]
    },
    {
      "cell_type": "markdown",
      "source": [
        "Range Function"
      ],
      "metadata": {
        "id": "XnmGf5OspsdC"
      }
    },
    {
      "cell_type": "code",
      "source": [
        "print(list(range(8)))\n",
        "print(\"-----------------\")\n",
        "print(list(range(3,8)))\n",
        "print(\"------------------\")\n",
        "print(list(range(3,8,2)))\n",
        "\n",
        "#python for loop\n",
        "for val in[10,20,30,40]:\n",
        " print(val)\n",
        "for eachchar in \"abcdef\":\n",
        "  print(eachchar)\n",
        "\n",
        "for val in range(10):\n",
        "  print(val)"
      ],
      "metadata": {
        "colab": {
          "base_uri": "https://localhost:8080/"
        },
        "id": "NYymcWJ_p324",
        "outputId": "14e7cf42-e90a-434c-be41-6be643380f21"
      },
      "execution_count": null,
      "outputs": [
        {
          "output_type": "stream",
          "name": "stdout",
          "text": [
            "[0, 1, 2, 3, 4, 5, 6, 7]\n",
            "-----------------\n",
            "[3, 4, 5, 6, 7]\n",
            "------------------\n",
            "[3, 5, 7]\n",
            "10\n",
            "20\n",
            "30\n",
            "40\n",
            "a\n",
            "b\n",
            "c\n",
            "d\n",
            "e\n",
            "f\n",
            "0\n",
            "1\n",
            "2\n",
            "3\n",
            "4\n",
            "5\n",
            "6\n",
            "7\n",
            "8\n",
            "9\n"
          ]
        }
      ]
    },
    {
      "cell_type": "markdown",
      "source": [
        "While loop"
      ],
      "metadata": {
        "id": "An3nmK_UteqB"
      }
    },
    {
      "cell_type": "code",
      "source": [
        "#python while loop\n",
        "num1 = 1\n",
        "sum  = 0\n",
        "while num1<=10:\n",
        "  sum= sum+num1\n",
        "  num1+=1\n",
        "print(sum)"
      ],
      "metadata": {
        "colab": {
          "base_uri": "https://localhost:8080/"
        },
        "id": "BR-ej6XBtVrw",
        "outputId": "a187c651-67e7-4d16-bf5f-81946b9a6487"
      },
      "execution_count": null,
      "outputs": [
        {
          "output_type": "stream",
          "name": "stdout",
          "text": [
            "55\n"
          ]
        }
      ]
    },
    {
      "cell_type": "code",
      "source": [
        "mylist=[10,20,50,30,40,50,60]\n",
        "#break portion\n",
        "print(\"-----------break output-----------------\")\n",
        "for val in mylist:\n",
        "  if val==50:\n",
        "    break\n",
        "  print(val)\n",
        "print(\"--------------------bko----------------------\")\n",
        "for val in mylist:\n",
        "   if(val==50):\n",
        "    continue\n",
        "   print(val)"
      ],
      "metadata": {
        "colab": {
          "base_uri": "https://localhost:8080/"
        },
        "id": "uvb0OvZHuMxG",
        "outputId": "79bdb017-0b43-4006-c1fc-6d28733f99b3"
      },
      "execution_count": null,
      "outputs": [
        {
          "output_type": "stream",
          "name": "stdout",
          "text": [
            "-----------break output-----------------\n",
            "10\n",
            "20\n",
            "--------------------bko----------------------\n",
            "10\n",
            "20\n",
            "30\n",
            "40\n",
            "60\n"
          ]
        }
      ]
    },
    {
      "cell_type": "markdown",
      "source": [
        "Functions"
      ],
      "metadata": {
        "id": "FzG_3yqXxW-9"
      }
    },
    {
      "cell_type": "code",
      "source": [
        "def printhello():\n",
        "  print('within the value')\n",
        "  return \"function return value\"\n",
        "printhello()\n",
        "\n",
        "returnvalue=printhello()\n",
        "print(returnvalue)"
      ],
      "metadata": {
        "colab": {
          "base_uri": "https://localhost:8080/"
        },
        "id": "wrogZOAUxZDe",
        "outputId": "b5841df8-bfb2-48c2-e4a2-6128dfd2695c"
      },
      "execution_count": null,
      "outputs": [
        {
          "output_type": "stream",
          "name": "stdout",
          "text": [
            "within the value\n",
            "within the value\n",
            "function return value\n"
          ]
        }
      ]
    },
    {
      "cell_type": "markdown",
      "source": [
        "Arguments"
      ],
      "metadata": {
        "id": "h7DXyMhNy0mF"
      }
    },
    {
      "cell_type": "code",
      "source": [
        "#Functions Arguements\n",
        "def showinfo(name,email):\n",
        "  print(\"Email adress of student {} is {}\".format(name,email))\n",
        "showinfo(\"abc\",\"abc@gmail.com\")\n",
        "\n",
        "#keyword Arguements\n",
        "showinfo(email=\"zzz@gmail.com\", name=\"zzz\")\n",
        "\n",
        "#default arguments\n",
        "#all the arguemnt to the default arguemnt must have default value\n",
        "def showinfo1(name,email=\"uuu@email.com\"):\n",
        "  print(\"Email of the particular person name {} and email is {}\".format(name,email))\n",
        "showinfo1(\"abc\")"
      ],
      "metadata": {
        "colab": {
          "base_uri": "https://localhost:8080/"
        },
        "id": "1gSAhUwYy0yo",
        "outputId": "7091258d-8beb-4fc5-86fe-970c55727f38"
      },
      "execution_count": null,
      "outputs": [
        {
          "output_type": "stream",
          "name": "stdout",
          "text": [
            "Email adress of student abc is abc@gmail.com\n",
            "Email adress of student zzz is zzz@gmail.com\n",
            "Email of the particular person name abc and email is uuu@email.com\n"
          ]
        }
      ]
    },
    {
      "cell_type": "markdown",
      "source": [
        "Arbitray Arugments"
      ],
      "metadata": {
        "id": "ANOV3zFaWYwz"
      }
    },
    {
      "cell_type": "code",
      "source": [
        "def anyargfn(*args):\n",
        "  #args is a tupple\n",
        "\n",
        "  for eacharg in args:\n",
        "    print(eacharg)\n",
        "\n",
        "anyargfn(10,20,30,60)\n",
        "\n",
        "#Arbitrary keyword argument\n",
        "def anykwargsfn(**kwargs):\n",
        "    for key in kwargs:\n",
        "      print(key,kwargs[key])\n",
        "anykwargsfn(k1=\"value1\",k2=\"value2\",k3=\"value3\")"
      ],
      "metadata": {
        "colab": {
          "base_uri": "https://localhost:8080/"
        },
        "id": "s-VgCHHAWYWT",
        "outputId": "656e6b16-6d97-4c3f-a81b-503963de4c1d"
      },
      "execution_count": null,
      "outputs": [
        {
          "output_type": "stream",
          "name": "stdout",
          "text": [
            "10\n",
            "20\n",
            "30\n",
            "60\n",
            "k1 value1\n",
            "k2 value2\n",
            "k3 value3\n"
          ]
        }
      ]
    },
    {
      "cell_type": "markdown",
      "source": [
        "1.Immutable\n",
        "2.Mutable"
      ],
      "metadata": {
        "id": "10FU2zT4nHV6"
      }
    },
    {
      "cell_type": "code",
      "source": [
        "#Function Arguement\n",
        "#2 types of object:\n",
        "#Immutable(unchangeable) object:int, float, complex,str,tuple\n",
        "#mutable(changeable) object: List, dict\n",
        "\n",
        "def showinfo(name,email):\n",
        "    print(\"Email address of Student {} is {}\".format(name,email))\n",
        "\n",
        "showinfo(\"abc\",\"abc@gmail.com\")\n",
        "\n",
        "#Keyword Arguments\n",
        "#All the arguments to the right of default arguemnt must have default value\n",
        "\n",
        "def showinfo1(email=\"zzz@gmail.com\",name=\"zzz\"):\n",
        "    print(\"Email address of student {} is {}\".format(name,email))\n",
        "\n",
        "showinfo(\"abc\",\"abc@gmail.com\")\n",
        "showinfo1(\"abc\",\"abc@gmail.com\")\n",
        "#Default Arguements\n",
        "#All the arguements to the right of default arguement must have default value\n",
        "def showinfol(name,email=\"xxx@gmail.com\"):\n",
        "    print(\"Email address of Student {} is {}\".format(name,email))\n",
        "\n",
        "showinfol(\"abc\")\n",
        "showinfo1(\"abc\",\"abc@gmail.com\")\n",
        "\n",
        "\n"
      ],
      "metadata": {
        "id": "e_vKfyHOnYFt",
        "colab": {
          "base_uri": "https://localhost:8080/"
        },
        "outputId": "d409d8f7-0435-46a1-c4ff-4a933a8760f4"
      },
      "execution_count": 12,
      "outputs": [
        {
          "output_type": "stream",
          "name": "stdout",
          "text": [
            "Email address of Student abc is abc@gmail.com\n",
            "Email address of Student abc is abc@gmail.com\n",
            "Email address of student abc@gmail.com is abc\n",
            "Email address of Student abc is xxx@gmail.com\n",
            "Email address of student abc@gmail.com is abc\n"
          ]
        }
      ]
    },
    {
      "cell_type": "markdown",
      "source": [
        "Anonymus function"
      ],
      "metadata": {
        "id": "EF4j4wzm1JkD"
      }
    },
    {
      "cell_type": "code",
      "source": [
        "sayhelllo=lambda name: \"Hello\"+name\n",
        "print(sayhelllo(\" python\"))\n",
        "\n",
        "#filter()-built-in function\n",
        "#filter() function returns a new list containing items for which the function evaluates to true\n",
        "\n",
        "list1=[1,2,3,4,5,6,7,8]\n",
        "\n",
        "new_list1= list(filter(lambda x:(x%2==0),list1))\n",
        "print(new_list1)\n",
        "\n",
        "#map()- built-in function\n",
        "#map() function returns a new list containing items returned by that fuction for each item\n",
        "list2=[1,2,3,4,5,6,7,8]\n",
        "#problem\n",
        "\n",
        "new_list2=list(map(lambda x: x*3,list2))\n",
        "print(new_list2)\n",
        "\n",
        "newlist3=list(map(lambda x:x**5,list2))\n",
        "print(newlist3)"
      ],
      "metadata": {
        "colab": {
          "base_uri": "https://localhost:8080/"
        },
        "id": "bB47e8Mp1gWB",
        "outputId": "ab171be3-41cb-47f6-eed3-b0e09397310d"
      },
      "execution_count": 6,
      "outputs": [
        {
          "output_type": "stream",
          "name": "stdout",
          "text": [
            "Hello python\n",
            "[2, 4, 6, 8]\n",
            "[3, 6, 9, 12, 15, 18, 21, 24]\n",
            "[1, 32, 243, 1024, 3125, 7776, 16807, 32768]\n"
          ]
        }
      ]
    },
    {
      "cell_type": "code",
      "source": [
        "#with open('input.txt') as fp:\n",
        " # data = fp.readline()"
      ],
      "metadata": {
        "id": "56bnoTVB1obh"
      },
      "execution_count": null,
      "outputs": []
    },
    {
      "cell_type": "code",
      "source": [
        "#from Mycode import sqrt"
      ],
      "metadata": {
        "id": "6KxZxX57EJ8x"
      },
      "execution_count": null,
      "outputs": []
    }
  ]
}